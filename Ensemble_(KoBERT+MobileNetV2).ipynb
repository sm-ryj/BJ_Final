{
  "nbformat": 4,
  "nbformat_minor": 0,
  "metadata": {
    "colab": {
      "provenance": [],
      "gpuType": "V100",
      "machine_shape": "hm"
    },
    "kernelspec": {
      "name": "python3",
      "display_name": "Python 3"
    },
    "language_info": {
      "name": "python"
    },
    "accelerator": "GPU"
  },
  "cells": [
    {
      "cell_type": "code",
      "source": [
        "from google.colab import drive\n",
        "drive.mount('/content/MyDrive')"
      ],
      "metadata": {
        "colab": {
          "base_uri": "https://localhost:8080/"
        },
        "id": "AiVmP6MGXDP9",
        "outputId": "c8dc9aa4-e720-4be2-cf54-1ba77478f32c"
      },
      "execution_count": null,
      "outputs": [
        {
          "output_type": "stream",
          "name": "stdout",
          "text": [
            "Drive already mounted at /content/MyDrive; to attempt to forcibly remount, call drive.mount(\"/content/MyDrive\", force_remount=True).\n"
          ]
        }
      ]
    },
    {
      "cell_type": "code",
      "execution_count": null,
      "metadata": {
        "id": "nIf8JN_vW-I_",
        "colab": {
          "base_uri": "https://localhost:8080/"
        },
        "outputId": "75b8bb3d-6d4e-4153-8d20-f0b4966ed58e"
      },
      "outputs": [
        {
          "output_type": "stream",
          "name": "stdout",
          "text": [
            "Requirement already satisfied: transformers in /usr/local/lib/python3.10/dist-packages (4.30.2)\n",
            "Requirement already satisfied: filelock in /usr/local/lib/python3.10/dist-packages (from transformers) (3.12.2)\n",
            "Requirement already satisfied: huggingface-hub<1.0,>=0.14.1 in /usr/local/lib/python3.10/dist-packages (from transformers) (0.15.1)\n",
            "Requirement already satisfied: numpy>=1.17 in /usr/local/lib/python3.10/dist-packages (from transformers) (1.22.4)\n",
            "Requirement already satisfied: packaging>=20.0 in /usr/local/lib/python3.10/dist-packages (from transformers) (23.1)\n",
            "Requirement already satisfied: pyyaml>=5.1 in /usr/local/lib/python3.10/dist-packages (from transformers) (6.0)\n",
            "Requirement already satisfied: regex!=2019.12.17 in /usr/local/lib/python3.10/dist-packages (from transformers) (2022.10.31)\n",
            "Requirement already satisfied: requests in /usr/local/lib/python3.10/dist-packages (from transformers) (2.27.1)\n",
            "Requirement already satisfied: tokenizers!=0.11.3,<0.14,>=0.11.1 in /usr/local/lib/python3.10/dist-packages (from transformers) (0.13.3)\n",
            "Requirement already satisfied: safetensors>=0.3.1 in /usr/local/lib/python3.10/dist-packages (from transformers) (0.3.1)\n",
            "Requirement already satisfied: tqdm>=4.27 in /usr/local/lib/python3.10/dist-packages (from transformers) (4.65.0)\n",
            "Requirement already satisfied: fsspec in /usr/local/lib/python3.10/dist-packages (from huggingface-hub<1.0,>=0.14.1->transformers) (2023.6.0)\n",
            "Requirement already satisfied: typing-extensions>=3.7.4.3 in /usr/local/lib/python3.10/dist-packages (from huggingface-hub<1.0,>=0.14.1->transformers) (4.6.3)\n",
            "Requirement already satisfied: urllib3<1.27,>=1.21.1 in /usr/local/lib/python3.10/dist-packages (from requests->transformers) (1.26.16)\n",
            "Requirement already satisfied: certifi>=2017.4.17 in /usr/local/lib/python3.10/dist-packages (from requests->transformers) (2023.5.7)\n",
            "Requirement already satisfied: charset-normalizer~=2.0.0 in /usr/local/lib/python3.10/dist-packages (from requests->transformers) (2.0.12)\n",
            "Requirement already satisfied: idna<4,>=2.5 in /usr/local/lib/python3.10/dist-packages (from requests->transformers) (3.4)\n",
            "Requirement already satisfied: kobert-transformers in /usr/local/lib/python3.10/dist-packages (0.5.1)\n",
            "Requirement already satisfied: torch>=1.1.0 in /usr/local/lib/python3.10/dist-packages (from kobert-transformers) (2.0.1+cu118)\n",
            "Requirement already satisfied: transformers<5,>=3 in /usr/local/lib/python3.10/dist-packages (from kobert-transformers) (4.30.2)\n",
            "Requirement already satisfied: sentencepiece>=0.1.91 in /usr/local/lib/python3.10/dist-packages (from kobert-transformers) (0.1.99)\n",
            "Requirement already satisfied: filelock in /usr/local/lib/python3.10/dist-packages (from torch>=1.1.0->kobert-transformers) (3.12.2)\n",
            "Requirement already satisfied: typing-extensions in /usr/local/lib/python3.10/dist-packages (from torch>=1.1.0->kobert-transformers) (4.6.3)\n",
            "Requirement already satisfied: sympy in /usr/local/lib/python3.10/dist-packages (from torch>=1.1.0->kobert-transformers) (1.11.1)\n",
            "Requirement already satisfied: networkx in /usr/local/lib/python3.10/dist-packages (from torch>=1.1.0->kobert-transformers) (3.1)\n",
            "Requirement already satisfied: jinja2 in /usr/local/lib/python3.10/dist-packages (from torch>=1.1.0->kobert-transformers) (3.1.2)\n",
            "Requirement already satisfied: triton==2.0.0 in /usr/local/lib/python3.10/dist-packages (from torch>=1.1.0->kobert-transformers) (2.0.0)\n",
            "Requirement already satisfied: cmake in /usr/local/lib/python3.10/dist-packages (from triton==2.0.0->torch>=1.1.0->kobert-transformers) (3.25.2)\n",
            "Requirement already satisfied: lit in /usr/local/lib/python3.10/dist-packages (from triton==2.0.0->torch>=1.1.0->kobert-transformers) (16.0.6)\n",
            "Requirement already satisfied: huggingface-hub<1.0,>=0.14.1 in /usr/local/lib/python3.10/dist-packages (from transformers<5,>=3->kobert-transformers) (0.15.1)\n",
            "Requirement already satisfied: numpy>=1.17 in /usr/local/lib/python3.10/dist-packages (from transformers<5,>=3->kobert-transformers) (1.22.4)\n",
            "Requirement already satisfied: packaging>=20.0 in /usr/local/lib/python3.10/dist-packages (from transformers<5,>=3->kobert-transformers) (23.1)\n",
            "Requirement already satisfied: pyyaml>=5.1 in /usr/local/lib/python3.10/dist-packages (from transformers<5,>=3->kobert-transformers) (6.0)\n",
            "Requirement already satisfied: regex!=2019.12.17 in /usr/local/lib/python3.10/dist-packages (from transformers<5,>=3->kobert-transformers) (2022.10.31)\n",
            "Requirement already satisfied: requests in /usr/local/lib/python3.10/dist-packages (from transformers<5,>=3->kobert-transformers) (2.27.1)\n",
            "Requirement already satisfied: tokenizers!=0.11.3,<0.14,>=0.11.1 in /usr/local/lib/python3.10/dist-packages (from transformers<5,>=3->kobert-transformers) (0.13.3)\n",
            "Requirement already satisfied: safetensors>=0.3.1 in /usr/local/lib/python3.10/dist-packages (from transformers<5,>=3->kobert-transformers) (0.3.1)\n",
            "Requirement already satisfied: tqdm>=4.27 in /usr/local/lib/python3.10/dist-packages (from transformers<5,>=3->kobert-transformers) (4.65.0)\n",
            "Requirement already satisfied: fsspec in /usr/local/lib/python3.10/dist-packages (from huggingface-hub<1.0,>=0.14.1->transformers<5,>=3->kobert-transformers) (2023.6.0)\n",
            "Requirement already satisfied: MarkupSafe>=2.0 in /usr/local/lib/python3.10/dist-packages (from jinja2->torch>=1.1.0->kobert-transformers) (2.1.3)\n",
            "Requirement already satisfied: urllib3<1.27,>=1.21.1 in /usr/local/lib/python3.10/dist-packages (from requests->transformers<5,>=3->kobert-transformers) (1.26.16)\n",
            "Requirement already satisfied: certifi>=2017.4.17 in /usr/local/lib/python3.10/dist-packages (from requests->transformers<5,>=3->kobert-transformers) (2023.5.7)\n",
            "Requirement already satisfied: charset-normalizer~=2.0.0 in /usr/local/lib/python3.10/dist-packages (from requests->transformers<5,>=3->kobert-transformers) (2.0.12)\n",
            "Requirement already satisfied: idna<4,>=2.5 in /usr/local/lib/python3.10/dist-packages (from requests->transformers<5,>=3->kobert-transformers) (3.4)\n",
            "Requirement already satisfied: mpmath>=0.19 in /usr/local/lib/python3.10/dist-packages (from sympy->torch>=1.1.0->kobert-transformers) (1.3.0)\n"
          ]
        }
      ],
      "source": [
        "!pip install transformers\n",
        "!pip3 install kobert-transformers\n",
        "\n",
        "import torch\n",
        "from torch import nn\n",
        "import torch.nn.functional as F\n",
        "from torch.utils.data import Dataset, DataLoader\n",
        "from transformers import AdamW\n",
        "from transformers.optimization import get_cosine_schedule_with_warmup\n",
        "from kobert_transformers import get_kobert_model, get_tokenizer"
      ]
    },
    {
      "cell_type": "code",
      "source": [
        "LABEL2NUM = {\n",
        "    '310300200':0,\n",
        "    '310300100':1,\n",
        "    '310300300':2,\n",
        "    '310300400':3,\n",
        "    '310300600':4,\n",
        "    '310300500':5,\n",
        "    '310260800':6,\n",
        "    '310260700':7,\n",
        "    '310260600':8,\n",
        "    '310260500':9,\n",
        "    '310260400':10,\n",
        "    '310260100':11,\n",
        "    '310260200':12,\n",
        "    '310260300':13,\n",
        "    '310150080':14,\n",
        "    '310150010':15,\n",
        "    '310150030':16,\n",
        "    '310150090':17,\n",
        "    '310150040':18,\n",
        "    '310150070':19,\n",
        "    '310130030':20,\n",
        "    '310130080':21,\n",
        "    '310130040':22,\n",
        "    '310120030':23,\n",
        "    '310120110':24,\n",
        "    '310120020':25,\n",
        "    '310250':26,\n",
        "    '310400100':27,\n",
        "    '310400200':28,\n",
        "    '310200200':29,\n",
        "    '310200100':30,\n",
        "    '310220300':31,\n",
        "    '310220100':32,\n",
        "    '310220200':33,\n",
        "    '320300300':34,\n",
        "    '320300200':35,\n",
        "    '320300100':36,\n",
        "    '320300400':37,\n",
        "    '320300600':38,\n",
        "    '320300500':39,\n",
        "    '320210600':40,\n",
        "    '320210500':41,\n",
        "    '320210700':42,\n",
        "    '320210400':43,\n",
        "    '320210100':44,\n",
        "    '320210200':45,\n",
        "    '320210300':46,\n",
        "    '320120600':47,\n",
        "    '320120100':48,\n",
        "    '320120200':49,\n",
        "    '320120300':50,\n",
        "    '320120700':51,\n",
        "    '320400':52,\n",
        "    '320500100':53,\n",
        "    '320500200':54,\n",
        "    '320160700':55,\n",
        "    '320160800':56,\n",
        "    '320180700':57,\n",
        "    '320180600':58,\n",
        "    '405100':59,\n",
        "    '405300300':60,\n",
        "    '405300100':61,\n",
        "    '405300200':62,\n",
        "    '405200300':63,\n",
        "    '405200400':64,\n",
        "    '405200100':65,\n",
        "    '405200200':66,\n",
        "    '405400200':67,\n",
        "    '405400300':68,\n",
        "    '405400400':69,\n",
        "    '405400500':70,\n",
        "    '405400100':71,\n",
        "    '405400600':72,\n",
        "    '430100400':73,\n",
        "    '430100100':74,\n",
        "    '430100200':75,\n",
        "    '430100300':76,\n",
        "    '430100500':77,\n",
        "    '430200100':78,\n",
        "    '430200300':79,\n",
        "    '430200200':80,\n",
        "    '430200500':81,\n",
        "    '430200400':82,\n",
        "    '430300100':83,\n",
        "    '430400':84,\n",
        "    '430500':85,\n",
        "    '421200100':86,\n",
        "    '421200200':87,\n",
        "    '421200300':88,\n",
        "    '421200400':89,\n",
        "    '421200500':90,\n",
        "    '421100100':91,\n",
        "    '421100200':92,\n",
        "    '421100300':93,\n",
        "    '421100400':94,\n",
        "    '421100500':95,\n",
        "    '421300100':96,\n",
        "    '422200100':97,\n",
        "    '422200200':98,\n",
        "    '422200300':99,\n",
        "    '422200400':100,\n",
        "    '422200500':101,\n",
        "    '422200600':102,\n",
        "    '422200700':103,\n",
        "    '422100100':104,\n",
        "    '422100200':105,\n",
        "    '422100300':106,\n",
        "    '422100400':107,\n",
        "    '422100500':108,\n",
        "    '422100600':109,\n",
        "    '422300100':110,\n",
        "    '422300200':111,\n",
        "    '422300300':112,\n",
        "    '422400100':113,\n",
        "    '422400200':114,\n",
        "    '422500100':115,\n",
        "    '422500200':116,\n",
        "    '422500300':117,\n",
        "    '422500400':118,\n",
        "    '422500500':119,\n",
        "    '422600100':120,\n",
        "    '422600200':121,\n",
        "    '400070100':122,\n",
        "    '400070700':123,\n",
        "    '400070200':124,\n",
        "    '400070500':125,\n",
        "    '400080300':126,\n",
        "    '400080200':127,\n",
        "    '400120100':128,\n",
        "    '400120200':129,\n",
        "    '400130100':130,\n",
        "    '400130200':131,\n",
        "    '400110100':132,\n",
        "    '400110200':133,\n",
        "    '400140100':134,\n",
        "    '400140200':135,\n",
        "    '400090':136,\n",
        "    '400600':137\n",
        "}\n",
        "\n",
        "LABEL2NAME = {\n",
        "    '310300200':{'대분류':'여성의류', '중분류':'아우터', '소분류':'패딩'},\n",
        "    '310300100':{'대분류':'여성의류', '중분류':'아우터', '소분류':'점퍼'},\n",
        "    '310300300':{'대분류':'여성의류', '중분류':'아우터', '소분류':'코트'},\n",
        "    '310300400':{'대분류':'여성의류', '중분류':'아우터', '소분류':'자켓'},\n",
        "    '310300600':{'대분류':'여성의류', '중분류':'아우터', '소분류':'가디건'},\n",
        "    '310300500':{'대분류':'여성의류', '중분류':'아우터', '소분류':'조끼/베스트'},\n",
        "    '310260800':{'대분류':'여성의류', '중분류':'상의', '소분류':'니트/스웨터'},\n",
        "    '310260700':{'대분류':'여성의류', '중분류':'상의', '소분류':'후드티/후드집업'},\n",
        "    '310260600':{'대분류':'여성의류', '중분류':'상의', '소분류':'맨투맨'},\n",
        "    '310260500':{'대분류':'여성의류', '중분류':'상의', '소분류':'블라우스'},\n",
        "    '310260400':{'대분류':'여성의류', '중분류':'상의', '소분류':'셔츠'},\n",
        "    '310260100':{'대분류':'여성의류', '중분류':'상의', '소분류':'반팔 티셔츠'},\n",
        "    '310260200':{'대분류':'여성의류', '중분류':'상의', '소분류':'긴팔 티셔츠'},\n",
        "    '310260300':{'대분류':'여성의류', '중분류':'상의', '소분류':'민소매 티셔츠'},\n",
        "    '310150080':{'대분류':'여성의류', '중분류':'바지', '소분류':'데님/청바지'},\n",
        "    '310150010':{'대분류':'여성의류', '중분류':'바지', '소분류':'슬랙스'},\n",
        "    '310150030':{'대분류':'여성의류', '중분류':'바지', '소분류':'면바지'},\n",
        "    '310150090':{'대분류':'여성의류', '중분류':'바지', '소분류':'반바지'},\n",
        "    '310150040':{'대분류':'여성의류', '중분류':'바지', '소분류':'트레이닝/조거팬츠'},\n",
        "    '310150070':{'대분류':'여성의류', '중분류':'바지', '소분류':'레깅스'},\n",
        "    '310130030':{'대분류':'여성의류', '중분류':'치마', '소분류':'롱 스커트'},\n",
        "    '310130080':{'대분류':'여성의류', '중분류':'치마', '소분류':'미디 스커트'},\n",
        "    '310130040':{'대분류':'여성의류', '중분류':'치마', '소분류':'미니 스커트'},\n",
        "    '310120030':{'대분류':'여성의류', '중분류':'원피스', '소분류':'롱 원피스'},\n",
        "    '310120110':{'대분류':'여성의류', '중분류':'원피스', '소분류':'미디 원피스'},\n",
        "    '310120020':{'대분류':'여성의류', '중분류':'원피스', '소분류':'미니 원피스'},\n",
        "    '310250':{'대분류':'여성의류', '중분류':'점프수트'},\n",
        "    '310400100':{'대분류':'여성의류', '중분류':'셋업/세트', '소분류':'정장/셋업'},\n",
        "    '310400200':{'대분류':'여성의류', '중분류':'셋업/세트', '소분류':'트레이닝/스웨트 셋업'},\n",
        "    '310200200':{'대분류':'여성의류', '중분류':'언더웨어/홈웨어', '소분류':'홈웨어'},\n",
        "    '310200100':{'대분류':'여성의류', '중분류':'언더웨어/홈웨어', '소분류':'언더웨어'},\n",
        "    '310220300':{'대분류':'여성의류', '중분류':'테마/이벤트', '소분류':'코스튬/코스프레'},\n",
        "    '310220100':{'대분류':'여성의류', '중분류':'테마/이벤트', '소분류':'한복'},\n",
        "    '310220200':{'대분류':'여성의류', '중분류':'테마/이벤트', '소분류':'드레스'},\n",
        "    '320300300':{'대분류':'남성의류', '중분류':'아우터', '소분류':'패딩'},\n",
        "    '320300200':{'대분류':'남성의류', '중분류':'아우터', '소분류':'점퍼'},\n",
        "    '320300100':{'대분류':'남성의류', '중분류':'아우터', '소분류':'코트'},\n",
        "    '320300400':{'대분류':'남성의류', '중분류':'아우터', '소분류':'자켓'},\n",
        "    '320300600':{'대분류':'남성의류', '중분류':'아우터', '소분류':'가디건'},\n",
        "    '320300500':{'대분류':'남성의류', '중분류':'아우터', '소분류':'조끼/베스트'},\n",
        "    '320210600':{'대분류':'남성의류', '중분류':'상의', '소분류':'후드티/후드집업'},\n",
        "    '320210500':{'대분류':'남성의류', '중분류':'상의', '소분류':'맨투맨'},\n",
        "    '320210700':{'대분류':'남성의류', '중분류':'상의', '소분류':'니트/스웨터'},\n",
        "    '320210400':{'대분류':'남성의류', '중분류':'상의', '소분류':'셔츠'},\n",
        "    '320210100':{'대분류':'남성의류', '중분류':'상의', '소분류':'반팔 티셔츠'},\n",
        "    '320210200':{'대분류':'남성의류', '중분류':'상의', '소분류':'긴팔 티셔츠'},\n",
        "    '320210300':{'대분류':'남성의류', '중분류':'상의', '소분류':'민소매 티셔츠'},\n",
        "    '320120600':{'대분류':'남성의류', '중분류':'바지', '소분류':'데님/청바지'},\n",
        "    '320120100':{'대분류':'남성의류', '중분류':'바지', '소분류':'면바지'},\n",
        "    '320120200':{'대분류':'남성의류', '중분류':'바지', '소분류':'슬랙스'},\n",
        "    '320120300':{'대분류':'남성의류', '중분류':'바지', '소분류':'트레이닝/조거팬츠'},\n",
        "    '320120700':{'대분류':'남성의류', '중분류':'바지', '소분류':'반바지'},\n",
        "    '320400':{'대분류':'남성의류', '중분류':'점프수트'},\n",
        "    '320500100':{'대분류':'남성의류', '중분류':'셋업/세트', '소분류':'정장/셋업'},\n",
        "    '320500200':{'대분류':'남성의류', '중분류':'셋업/세트', '소분류':'트레이닝/스웨트 셋업'},\n",
        "    '320160700':{'대분류':'남성의류', '중분류':'언더웨어/홈웨어', '소분류':'언더웨어'},\n",
        "    '320160800':{'대분류':'남성의류', '중분류':'언더웨어/홈웨어', '소분류':'홈웨어'},\n",
        "    '320180700':{'대분류':'남성의류', '중분류':'테마/이벤트', '소분류':'코스튬/코스프레'},\n",
        "    '320180600':{'대분류':'남성의류', '중분류':'테마/이벤트', '소분류':'한복'},\n",
        "    '405100':{'대분류':'신발', '중분류':'스니커즈'},\n",
        "    '405300300':{'대분류':'신발', '중분류':'남성화', '소분류':'샌들/슬리퍼'},\n",
        "    '405300100':{'대분류':'신발', '중분류':'남성화', '소분류':'구두/로퍼'},\n",
        "    '405300200':{'대분류':'신발', '중분류':'남성화', '소분류':'워커/부츠'},\n",
        "    '405200300':{'대분류':'신발', '중분류':'여성화', '소분류':'샌들/슬리퍼'},\n",
        "    '405200400':{'대분류':'신발', '중분류':'여성화', '소분류':'구두'},\n",
        "    '405200100':{'대분류':'신발', '중분류':'여성화', '소분류':'단화/플랫슈즈'},\n",
        "    '405200200':{'대분류':'신발', '중분류':'여성화', '소분류':'워커/부츠'},\n",
        "    '405400200':{'대분류':'신발', '중분류':'스포츠화', '소분류':'농구화'},\n",
        "    '405400300':{'대분류':'신발', '중분류':'스포츠화', '소분류':'골프화'},\n",
        "    '405400400':{'대분류':'신발', '중분류':'스포츠화', '소분류':'축구/풋살화'},\n",
        "    '405400500':{'대분류':'신발', '중분류':'스포츠화', '소분류':'테니스화'},\n",
        "    '405400100':{'대분류':'신발', '중분류':'스포츠화', '소분류':'등산화/트레킹화'},\n",
        "    '405400600':{'대분류':'신발', '중분류':'스포츠화', '소분류':'야구화'},\n",
        "    '430100400':{'대분류':'가방/지갑', '중분류':'여성가방', '소분류':'클러치백'},\n",
        "    '430100100':{'대분류':'가방/지갑', '중분류':'여성가방', '소분류':'숄더백'},\n",
        "    '430100200':{'대분류':'가방/지갑', '중분류':'여성가방', '소분류':'크로스백'},\n",
        "    '430100300':{'대분류':'가방/지갑', '중분류':'여성가방', '소분류':'토트백'},\n",
        "    '430100500':{'대분류':'가방/지갑', '중분류':'여성가방', '소분류':'백팩'},\n",
        "    '430200100':{'대분류':'가방/지갑', '중분류':'남성가방', '소분류':'클러치'},\n",
        "    '430200300':{'대분류':'가방/지갑', '중분류':'남성가방', '소분류':'숄더백'},\n",
        "    '430200200':{'대분류':'가방/지갑', '중분류':'남성가방', '소분류':'크로스백'},\n",
        "    '430200500':{'대분류':'가방/지갑', '중분류':'남성가방', '소분류':'브리프케이스'},\n",
        "    '430200400':{'대분류':'가방/지갑', '중분류':'남성가방', '소분류':'백팩'},\n",
        "    '430300100':{'대분류':'가방/지갑', '중분류':'남성가방', '소분류':'캐리어'},\n",
        "    '430400':{'대분류':'가방/지갑', '중분류':'여성지갑'},\n",
        "    '430500':{'대분류':'가방/지갑', '중분류':'남성지갑'},\n",
        "    '421200100':{'대분류':'시계', '중분류':'남성시계', '소분류':'프리미엄 시계(디지털)'},\n",
        "    '421200200':{'대분류':'시계', '중분류':'남성시계', '소분류':'프리미엄 시계(쿼츠)'},\n",
        "    '421200300':{'대분류':'시계', '중분류':'남성시계', '소분류':'프리미엄 시계(오토매틱)'},\n",
        "    '421200400':{'대분류':'시계', '중분류':'남성시계', '소분류':'일반 시계(메탈 밴드)'},\n",
        "    '421200500':{'대분류':'시계', '중분류':'남성시계', '소분류':'일반 시계(가죽 밴드)'},\n",
        "    '421100100':{'대분류':'시계', '중분류':'여성시계', '소분류':'프리미엄 시계(디지털)'},\n",
        "    '421100200':{'대분류':'시계', '중분류':'여성시계', '소분류':'프리미엄 시계(쿼츠)'},\n",
        "    '421100300':{'대분류':'시계', '중분류':'여성시계', '소분류':'프리미엄 시계(오토매틱)'},\n",
        "    '421100400':{'대분류':'시계', '중분류':'여성시계', '소분류':'일반 시계(메탈 밴드)'},\n",
        "    '421100500':{'대분류':'시계', '중분류':'여성시계', '소분류':'일반 시계(가죽 밴드)'},\n",
        "    '421300100':{'대분류':'시계', '중분류':'시계용품', '소분류':'스트랩'},\n",
        "    '422200100':{'대분류':'쥬얼리', '중분류':'귀걸이/피어싱', '소분류':'다이아몬드 귀걸이'},\n",
        "    '422200200':{'대분류':'쥬얼리', '중분류':'귀걸이/피어싱', '소분류':'금 귀걸이'},\n",
        "    '422200300':{'대분류':'쥬얼리', '중분류':'귀걸이/피어싱', '소분류':'은 귀걸이'},\n",
        "    '422200400':{'대분류':'쥬얼리', '중분류':'귀걸이/피어싱', '소분류':'진주/유색보석 귀걸이'},\n",
        "    '422200500':{'대분류':'쥬얼리', '중분류':'귀걸이/피어싱', '소분류':'패션 귀걸이'},\n",
        "    '422200600':{'대분류':'쥬얼리', '중분류':'귀걸이/피어싱', '소분류':'피어싱'},\n",
        "    '422200700':{'대분류':'쥬얼리', '중분류':'귀걸이/피어싱', '소분류':'귀찌/이어커프'},\n",
        "    '422100100':{'대분류':'쥬얼리', '중분류':'목걸이/펜던트', '소분류':'다이아몬드 목걸이'},\n",
        "    '422100200':{'대분류':'쥬얼리', '중분류':'목걸이/펜던트', '소분류':'금 목걸이'},\n",
        "    '422100300':{'대분류':'쥬얼리', '중분류':'목걸이/펜던트', '소분류':'은 목걸이'},\n",
        "    '422100400':{'대분류':'쥬얼리', '중분류':'목걸이/펜던트', '소분류':'진주/유색보석 목걸이'},\n",
        "    '422100500':{'대분류':'쥬얼리', '중분류':'목걸이/펜던트', '소분류':'패션 목걸이'},\n",
        "    '422100600':{'대분류':'쥬얼리', '중분류':'목걸이/펜던트', '소분류':'초커'},\n",
        "    '422300100':{'대분류':'쥬얼리', '중분류':'팔찌', '소분류':'금팔찌'},\n",
        "    '422300200':{'대분류':'쥬얼리', '중분류':'팔찌', '소분류':'은팔찌'},\n",
        "    '422300300':{'대분류':'쥬얼리', '중분류':'팔찌', '소분류':'패션 팔찌'},\n",
        "    '422400100':{'대분류':'쥬얼리', '중분류':'발찌', '소분류':'금발찌'},\n",
        "    '422400200':{'대분류':'쥬얼리', '중분류':'발찌', '소분류':'패션발찌'},\n",
        "    '422500100':{'대분류':'쥬얼리', '중분류':'반지', '소분류':'다이아몬드 반지'},\n",
        "    '422500200':{'대분류':'쥬얼리', '중분류':'반지', '소분류':'금반지'},\n",
        "    '422500300':{'대분류':'쥬얼리', '중분류':'반지', '소분류':'은반지'},\n",
        "    '422500400':{'대분류':'쥬얼리', '중분류':'반지', '소분류':'진주/유색보석 반지'},\n",
        "    '422500500':{'대분류':'쥬얼리', '중분류':'반지', '소분류':'패션반지'},\n",
        "    '422600100':{'대분류':'쥬얼리', '중분류':'쥬얼리 세트', '소분류':'귀금속 쥬얼리 세트'},\n",
        "    '422600200':{'대분류':'쥬얼리', '중분류':'쥬얼리 세트', '소분류':'패션 쥬얼리 세트'},\n",
        "    '400070100':{'대분류':'패션 액세서리', '중분류':'모자', '소분류':'볼캡'},\n",
        "    '400070700':{'대분류':'패션 액세서리', '중분류':'모자', '소분류':'버킷'},\n",
        "    '400070200':{'대분류':'패션 액세서리', '중분류':'모자', '소분류':'스냅백'},\n",
        "    '400070500':{'대분류':'패션 액세서리', '중분류':'모자', '소분류':'비니'},\n",
        "    '400080300':{'대분류':'패션 액세서리', '중분류':'안경/선글라스', '소분류':'선글라스'},\n",
        "    '400080200':{'대분류':'패션 액세서리', '중분류':'안경/선글라스', '소분류':'안경'},\n",
        "    '400120100':{'대분류':'패션 액세서리', '중분류':'목도리/장갑', '소분류':'목도리'},\n",
        "    '400120200':{'대분류':'패션 액세서리', '중분류':'목도리/장갑', '소분류':'장갑'},\n",
        "    '400130100':{'대분류':'패션 액세서리', '중분류':'스카프/넥타이', '소분류':'스카프'},\n",
        "    '400130200':{'대분류':'패션 액세서리', '중분류':'스카프/넥타이', '소분류':'넥타이'},\n",
        "    '400110100':{'대분류':'패션 액세서리', '중분류':'벨트', '소분류':'남성 벨트'},\n",
        "    '400110200':{'대분류':'패션 액세서리', '중분류':'벨트', '소분류':'여성 벨트'},\n",
        "    '400140100':{'대분류':'패션 액세서리', '중분류':'양말/스타킹', '소분류':'양말'},\n",
        "    '400140200':{'대분류':'패션 액세서리', '중분류':'양말/스타킹', '소분류':'스타킹'},\n",
        "    '400090':{'대분류':'패션 액세서리', '중분류':'우산/양산'},\n",
        "    '400600':{'대분류':'패션 액세서리', '중분류':'키링/키케이스'}\n",
        "}"
      ],
      "metadata": {
        "id": "KhWO6ie4Gi7V"
      },
      "execution_count": null,
      "outputs": []
    },
    {
      "cell_type": "code",
      "source": [
        "from transformers.models.auto.modeling_auto import MODEL_FOR_VISION_2_SEQ_MAPPING\n",
        "num_classes = 138\n",
        "device = torch.device(\"cuda\" if torch.cuda.is_available() else \"cpu\")\n",
        "\n",
        "# model1 (KoBERT)\n",
        "kobert_model = get_kobert_model()\n",
        "class BERTClassifier(nn.Module):\n",
        "    def __init__(self,\n",
        "                 bert,\n",
        "                 hidden_size = 768,\n",
        "                 num_classes = 138,   ##클래스 수 조정##\n",
        "                 dr_rate=None,\n",
        "                 params=None):\n",
        "        super(BERTClassifier, self).__init__()\n",
        "        self.bert = bert\n",
        "        self.dr_rate = dr_rate\n",
        "        self.classifier = nn.Linear(hidden_size, num_classes)\n",
        "        if dr_rate is not None:\n",
        "            self.dropout = nn.Dropout(p=dr_rate)\n",
        "        else:\n",
        "            self.dropout = None\n",
        "    def forward(self, input_ids, attention_mask):\n",
        "        _, pooled_output = self.bert(input_ids=input_ids,\n",
        "                                    attention_mask=attention_mask,\n",
        "                                    return_dict=False)\n",
        "        output = self.dropout(pooled_output)\n",
        "        output = self.classifier(output)\n",
        "        return output\n",
        "model1 = BERTClassifier(kobert_model, num_classes=num_classes, dr_rate=0.5).to(device)\n",
        "save_path = \"/content/MyDrive/MyDrive/model/KoBERT/model_label1.pth\"\n",
        "model1.load_state_dict(torch.load(save_path))\n",
        "\n",
        "# model2 (MobileNetv2)\n",
        "import torch\n",
        "import torchvision.transforms as transforms\n",
        "import matplotlib.pyplot as plt\n",
        "from torchvision import models\n",
        "\n",
        "model2 = models.mobilenet_v2(pretrained=False)\n",
        "model2.classifier[-1] = nn.Linear(model2.last_channel, num_classes)\n",
        "model2 = model2.to(device)\n",
        "model2.load_state_dict(torch.load('/content/MyDrive/MyDrive/model/MobileNetv2/[ver.4.2] fine_tuned_mobilenetv2.pth'))"
      ],
      "metadata": {
        "colab": {
          "base_uri": "https://localhost:8080/"
        },
        "id": "6FMN98iAXCuj",
        "outputId": "23604bd8-2625-4123-c890-6371097a46fe"
      },
      "execution_count": null,
      "outputs": [
        {
          "output_type": "stream",
          "name": "stderr",
          "text": [
            "/usr/local/lib/python3.10/dist-packages/torchvision/models/_utils.py:208: UserWarning: The parameter 'pretrained' is deprecated since 0.13 and may be removed in the future, please use 'weights' instead.\n",
            "  warnings.warn(\n",
            "/usr/local/lib/python3.10/dist-packages/torchvision/models/_utils.py:223: UserWarning: Arguments other than a weight enum or `None` for 'weights' are deprecated since 0.13 and may be removed in the future. The current behavior is equivalent to passing `weights=None`.\n",
            "  warnings.warn(msg)\n"
          ]
        },
        {
          "output_type": "execute_result",
          "data": {
            "text/plain": [
              "<All keys matched successfully>"
            ]
          },
          "metadata": {},
          "execution_count": 6
        }
      ]
    },
    {
      "cell_type": "code",
      "source": [
        "import torch.nn.functional as F\n",
        "\n",
        "class EnsembleModel(nn.Module):\n",
        "  def __init__(self, model1, model2):\n",
        "    super(EnsembleModel, self).__init__()\n",
        "    self.model1 = model1\n",
        "    self.model2 = model2\n",
        "\n",
        "  def forward(self, input_ids, attention_mask, image):\n",
        "    output1 = self.model1(input_ids=input_ids, attention_mask=attention_mask)\n",
        "    output2 = self.model2(image)\n",
        "\n",
        "    # softmax\n",
        "    # output1 = F.softmax(output1, dim=1)\n",
        "    # output2 = F.softmax(output2, dim=1)\n",
        "\n",
        "    # 평균\n",
        "    weighted_output = output1 * 2 + output2\n",
        "    weighted_output = F.softmax(weighted_output, dim=1)\n",
        "\n",
        "    top3 = torch.topk(weighted_output.data, 3, dim=1)\n",
        "\n",
        "    output_idx = top3.indices.to('cpu').numpy()\n",
        "    output_score = top3.values.to('cpu').numpy()\n",
        "\n",
        "    NUM2LABEL = {v:k for k,v in LABEL2NUM.items()}\n",
        "\n",
        "    pred_cat_id = [NUM2LABEL[idx] for idx in output_idx[0]]\n",
        "    pred_cat = [LABEL2NAME[idx] for idx in pred_cat_id]\n",
        "\n",
        "    result = list(zip(pred_cat_id, pred_cat, output_score[0]))\n",
        "\n",
        "    return result"
      ],
      "metadata": {
        "id": "lfQozST-h4Sl"
      },
      "execution_count": null,
      "outputs": []
    },
    {
      "cell_type": "code",
      "source": [
        "import cv2\n",
        "import albumentations as A\n",
        "from albumentations.pytorch.transforms import ToTensorV2\n",
        "\n",
        "transform = A.Compose([\n",
        "    A.Resize(224, 224),\n",
        "    A.HorizontalFlip(p=0.5),\n",
        "    A.Normalize(mean=(0.485, 0.456, 0.406), std=(0.229, 0.224, 0.225), max_pixel_value=255.0, always_apply=False, p=1.0),\n",
        "    ToTensorV2()\n",
        "    ])\n",
        "\n",
        "class EnsembleDataset(Dataset):\n",
        "    def __init__(self,\n",
        "                 sentence,\n",
        "                 image,\n",
        "                 bert_tokenizer,\n",
        "                 max_len,\n",
        "                 pad,\n",
        "                 pair,\n",
        "                 transforms=transform):\n",
        "        self.sentence = sentence\n",
        "        self.image = image\n",
        "        self.tokenizer = bert_tokenizer\n",
        "        self.max_len = max_len\n",
        "        self.pad = pad\n",
        "        self.pair = pair\n",
        "        self.transforms = transform\n",
        "\n",
        "    def __getitem__(self, index):\n",
        "\n",
        "        # text\n",
        "        inputs = self.tokenizer.encode_plus(\n",
        "                 self.sentence,\n",
        "                 None if not self.pair else self.sentence,\n",
        "                 add_special_tokens=True,\n",
        "                 max_length=self.max_len,\n",
        "                 padding='max_length' if self.pad else None,\n",
        "                 truncation=True\n",
        "        )\n",
        "\n",
        "        input_ids = torch.tensor(inputs['input_ids'], dtype=torch.long)\n",
        "        attention_mask = torch.tensor(inputs['attention_mask'], dtype=torch.long)\n",
        "\n",
        "        # image\n",
        "        image = self.transforms(image=self.image)['image']\n",
        "\n",
        "        return input_ids, attention_mask, image"
      ],
      "metadata": {
        "id": "9dzw79oky-4v"
      },
      "execution_count": null,
      "outputs": []
    },
    {
      "cell_type": "markdown",
      "source": [
        "## 앙상블 테스트"
      ],
      "metadata": {
        "id": "VofuHh5yL9xR"
      }
    },
    {
      "cell_type": "code",
      "source": [
        "tokenizer = get_tokenizer()\n",
        "img_path = '/content/226536015-310260800 (2).jpg'\n",
        "image = cv2.imread(img_path)\n",
        "data_ensemble = EnsembleDataset('남성 티셔츠',\n",
        "                                image,\n",
        "                                tokenizer,\n",
        "                                64,\n",
        "                                True,\n",
        "                                False,\n",
        "                                transform)"
      ],
      "metadata": {
        "id": "fgQFU-6WzkDw",
        "colab": {
          "base_uri": "https://localhost:8080/"
        },
        "outputId": "54be1630-181a-4ca7-f426-e9c7e9cd65f1"
      },
      "execution_count": null,
      "outputs": [
        {
          "output_type": "stream",
          "name": "stderr",
          "text": [
            "The tokenizer class you load from this checkpoint is not the same type as the class this function is called from. It may result in unexpected tokenization. \n",
            "The tokenizer class you load from this checkpoint is 'BertTokenizer'. \n",
            "The class this function is called from is 'KoBertTokenizer'.\n"
          ]
        }
      ]
    },
    {
      "cell_type": "code",
      "source": [
        "model = EnsembleModel(model1, model2)\n",
        "input_ids, attention_mask, image = data_ensemble[0]\n",
        "input_ids = input_ids.unsqueeze(dim=0)\n",
        "input_ids = input_ids.to(device)\n",
        "\n",
        "attention_mask = attention_mask.unsqueeze(dim=0)\n",
        "attention_mask = attention_mask.to(device)\n",
        "\n",
        "image = image.unsqueeze(dim=0)\n",
        "image = image.to(device)\n",
        "\n",
        "attention_mask = attention_mask.to(device)\n",
        "image = image.to(device)\n",
        "final_output = model(input_ids, attention_mask, image)"
      ],
      "metadata": {
        "id": "Qpzh97cl0dF3"
      },
      "execution_count": null,
      "outputs": []
    },
    {
      "cell_type": "code",
      "source": [
        "final_output"
      ],
      "metadata": {
        "colab": {
          "base_uri": "https://localhost:8080/"
        },
        "id": "Vjk7VaJHLPbA",
        "outputId": "2ef73978-6b9e-4961-86cd-6fb2ae45f685"
      },
      "execution_count": null,
      "outputs": [
        {
          "output_type": "execute_result",
          "data": {
            "text/plain": [
              "[('320210400', {'대분류': '남성의류', '중분류': '상의', '소분류': '셔츠'}, 0.8475373),\n",
              " ('320210200', {'대분류': '남성의류', '중분류': '상의', '소분류': '긴팔 티셔츠'}, 0.14588201),\n",
              " ('320160800', {'대분류': '남성의류', '중분류': '언더웨어/홈웨어', '소분류': '홈웨어'}, 0.0027812014)]"
            ]
          },
          "metadata": {},
          "execution_count": 11
        }
      ]
    },
    {
      "cell_type": "code",
      "source": [
        "result = predict('구스다운패딩(웨스트우드)90 거의 새상품', '199552910-310300200 (1).jpg', model)\n",
        "result"
      ],
      "metadata": {
        "colab": {
          "base_uri": "https://localhost:8080/"
        },
        "id": "CYzRLen-25J5",
        "outputId": "883e38ea-67af-4f77-9408-92927d3cda8a"
      },
      "execution_count": null,
      "outputs": [
        {
          "output_type": "execute_result",
          "data": {
            "text/plain": [
              "[('310300200', {'대분류': '여성의류', '중분류': '아우터', '소분류': '패딩'}, 0.99999976),\n",
              " ('320300300', {'대분류': '남성의류', '중분류': '아우터', '소분류': '패딩'}, 6.251792e-08),\n",
              " ('310300400', {'대분류': '여성의류', '중분류': '아우터', '소분류': '자켓'}, 5.8437166e-08)]"
            ]
          },
          "metadata": {},
          "execution_count": 56
        }
      ]
    },
    {
      "cell_type": "code",
      "source": [
        "result = predict('폼폼푸린 25주년운동화 키링', '147849656-400600.jpg', model)\n",
        "result"
      ],
      "metadata": {
        "colab": {
          "base_uri": "https://localhost:8080/"
        },
        "id": "p5JFwvzb3RBc",
        "outputId": "9934067e-a99f-4c64-a2db-da23fba868d4"
      },
      "execution_count": null,
      "outputs": [
        {
          "output_type": "execute_result",
          "data": {
            "text/plain": [
              "[('400600', {'대분류': '패션 액세서리', '중분류': '키링/키케이스'}, 0.99999154),\n",
              " ('422100500',\n",
              "  {'대분류': '쥬얼리', '중분류': '목걸이/펜던트', '소분류': '패션 목걸이'},\n",
              "  7.386477e-06),\n",
              " ('430100400', {'대분류': '가방/지갑', '중분류': '여성가방', '소분류': '클러치백'}, 6.1597046e-07)]"
            ]
          },
          "metadata": {},
          "execution_count": 57
        }
      ]
    },
    {
      "cell_type": "code",
      "source": [
        "result = predict('데님 셔츠 캐주얼 청남방 빈티지', '225260434-310260400 (1).jpg', model)\n",
        "result"
      ],
      "metadata": {
        "colab": {
          "base_uri": "https://localhost:8080/"
        },
        "id": "SuRqj2U03Yyl",
        "outputId": "095ad648-a3c1-47e2-bdd8-14bdc297567a"
      },
      "execution_count": null,
      "outputs": [
        {
          "output_type": "execute_result",
          "data": {
            "text/plain": [
              "[('310260400', {'대분류': '여성의류', '중분류': '상의', '소분류': '셔츠'}, 0.9996437),\n",
              " ('320210400', {'대분류': '남성의류', '중분류': '상의', '소분류': '셔츠'}, 0.0003554327),\n",
              " ('310300400', {'대분류': '여성의류', '중분류': '아우터', '소분류': '자켓'}, 6.6591815e-07)]"
            ]
          },
          "metadata": {},
          "execution_count": 58
        }
      ]
    },
    {
      "cell_type": "code",
      "source": [
        "result = predict('프라이탁 블레어 그레이 흰 민트 새상품', '223087099-430500 (1).jpg', model)\n",
        "result"
      ],
      "metadata": {
        "colab": {
          "base_uri": "https://localhost:8080/"
        },
        "id": "8pfOgxsJ3eUG",
        "outputId": "3cb1bcb7-08f6-4f6f-ada6-d9756227721a"
      },
      "execution_count": null,
      "outputs": [
        {
          "output_type": "execute_result",
          "data": {
            "text/plain": [
              "[('430100200', {'대분류': '가방/지갑', '중분류': '여성가방', '소분류': '크로스백'}, 0.7693644),\n",
              " ('430200200', {'대분류': '가방/지갑', '중분류': '남성가방', '소분류': '크로스백'}, 0.14543986),\n",
              " ('430200300', {'대분류': '가방/지갑', '중분류': '남성가방', '소분류': '숄더백'}, 0.06502811)]"
            ]
          },
          "metadata": {},
          "execution_count": 59
        }
      ]
    },
    {
      "cell_type": "code",
      "source": [
        "result = predict('디디에두보 14k 브라운다이아 귀걸이', '182150060-422200100 (1).jpg', model)\n",
        "result"
      ],
      "metadata": {
        "colab": {
          "base_uri": "https://localhost:8080/"
        },
        "id": "T5Py2tMr3lQd",
        "outputId": "dabff26a-73da-4b97-e4d1-c385d5ee7fef"
      },
      "execution_count": null,
      "outputs": [
        {
          "output_type": "execute_result",
          "data": {
            "text/plain": [
              "[('422200100',\n",
              "  {'대분류': '쥬얼리', '중분류': '귀걸이/피어싱', '소분류': '다이아몬드 귀걸이'},\n",
              "  0.97434014),\n",
              " ('310150090', {'대분류': '여성의류', '중분류': '바지', '소분류': '반바지'}, 0.024116505),\n",
              " ('310260800', {'대분류': '여성의류', '중분류': '상의', '소분류': '니트/스웨터'}, 0.0011769187)]"
            ]
          },
          "metadata": {},
          "execution_count": 60
        }
      ]
    },
    {
      "cell_type": "code",
      "source": [
        "result = predict('에이치에이트 H8 슬랙스 (오트밀) ABRAMS WOOL PANT', '219396323-310150010 (1).jpg', model)\n",
        "result"
      ],
      "metadata": {
        "colab": {
          "base_uri": "https://localhost:8080/"
        },
        "id": "lHszymU83lOZ",
        "outputId": "06085e7a-9f22-4ad5-b831-e2dc02ef3a31"
      },
      "execution_count": null,
      "outputs": [
        {
          "output_type": "execute_result",
          "data": {
            "text/plain": [
              "[('320120200', {'대분류': '남성의류', '중분류': '바지', '소분류': '슬랙스'}, 0.9533069),\n",
              " ('310150010', {'대분류': '여성의류', '중분류': '바지', '소분류': '슬랙스'}, 0.04435452),\n",
              " ('310400100', {'대분류': '여성의류', '중분류': '셋업/세트', '소분류': '정장/셋업'}, 0.0022309904)]"
            ]
          },
          "metadata": {},
          "execution_count": 61
        }
      ]
    },
    {
      "cell_type": "code",
      "source": [
        "result = predict('브이 귀걸이 피어싱', '224821249-422200600 (1).jpg', model)\n",
        "result"
      ],
      "metadata": {
        "colab": {
          "base_uri": "https://localhost:8080/"
        },
        "id": "wVhUG-1W3lMS",
        "outputId": "757d3286-e684-41f4-f3b8-7c78af8c3e35"
      },
      "execution_count": null,
      "outputs": [
        {
          "output_type": "execute_result",
          "data": {
            "text/plain": [
              "[('422200600', {'대분류': '쥬얼리', '중분류': '귀걸이/피어싱', '소분류': '피어싱'}, 0.9810358),\n",
              " ('310400100', {'대분류': '여성의류', '중분류': '셋업/세트', '소분류': '정장/셋업'}, 0.010415015),\n",
              " ('320300400', {'대분류': '남성의류', '중분류': '아우터', '소분류': '자켓'}, 0.0029928891)]"
            ]
          },
          "metadata": {},
          "execution_count": 62
        }
      ]
    },
    {
      "cell_type": "code",
      "source": [
        "result = predict('원형 리본 비즈키링', '226471067-400600 (1).jpg', model)\n",
        "result"
      ],
      "metadata": {
        "colab": {
          "base_uri": "https://localhost:8080/"
        },
        "id": "6bhKIWY72tR-",
        "outputId": "51a6fe30-070a-4bbb-abb1-4f64e3495c7e"
      },
      "execution_count": null,
      "outputs": [
        {
          "output_type": "execute_result",
          "data": {
            "text/plain": [
              "[('400600', {'대분류': '패션 액세서리', '중분류': '키링/키케이스'}, 0.99701715),\n",
              " ('422100500',\n",
              "  {'대분류': '쥬얼리', '중분류': '목걸이/펜던트', '소분류': '패션 목걸이'},\n",
              "  0.0029511342),\n",
              " ('422600200',\n",
              "  {'대분류': '쥬얼리', '중분류': '쥬얼리 세트', '소분류': '패션 쥬얼리 세트'},\n",
              "  1.3697046e-05)]"
            ]
          },
          "metadata": {},
          "execution_count": 64
        }
      ]
    },
    {
      "cell_type": "code",
      "source": [
        "result = predict('(택포) MAGPIEROBIN 나시가디건 세트', '226534681-310300600 (1).jpg', model)\n",
        "result"
      ],
      "metadata": {
        "colab": {
          "base_uri": "https://localhost:8080/"
        },
        "id": "vUvELUj_5Pif",
        "outputId": "fb048790-fb14-497d-f210-2f79fa9061b0"
      },
      "execution_count": null,
      "outputs": [
        {
          "output_type": "execute_result",
          "data": {
            "text/plain": [
              "[('320300600', {'대분류': '남성의류', '중분류': '아우터', '소분류': '가디건'}, 0.98794365),\n",
              " ('310300600', {'대분류': '여성의류', '중분류': '아우터', '소분류': '가디건'}, 0.012056163),\n",
              " ('310400100', {'대분류': '여성의류', '중분류': '셋업/세트', '소분류': '정장/셋업'}, 7.426179e-08)]"
            ]
          },
          "metadata": {},
          "execution_count": 66
        }
      ]
    },
    {
      "cell_type": "code",
      "source": [
        "result = predict('[정품] 롤렉스 여성용 데이저스트 화이트로만 다이얼 풀세트', '220566857-421100300 (1).jpg', model)\n",
        "result"
      ],
      "metadata": {
        "colab": {
          "base_uri": "https://localhost:8080/"
        },
        "id": "sC9I8d405pl5",
        "outputId": "d6b92609-c94a-4170-b656-21c36f6910f1"
      },
      "execution_count": null,
      "outputs": [
        {
          "output_type": "execute_result",
          "data": {
            "text/plain": [
              "[('310400100', {'대분류': '여성의류', '중분류': '셋업/세트', '소분류': '정장/셋업'}, 0.42754212),\n",
              " ('421200400',\n",
              "  {'대분류': '시계', '중분류': '남성시계', '소분류': '일반 시계(메탈 밴드)'},\n",
              "  0.29409072),\n",
              " ('421100300',\n",
              "  {'대분류': '시계', '중분류': '여성시계', '소분류': '프리미엄 시계(오토매틱)'},\n",
              "  0.14466977)]"
            ]
          },
          "metadata": {},
          "execution_count": 67
        }
      ]
    },
    {
      "cell_type": "markdown",
      "source": [
        "## 테스트 데이터 성능 평가"
      ],
      "metadata": {
        "id": "t8nnzgBBMEgI"
      }
    },
    {
      "cell_type": "code",
      "source": [
        "import cv2\n",
        "\n",
        "def predict(text, image, model):\n",
        "\n",
        "  data_ensemble = EnsembleDataset(text,\n",
        "                                  image,\n",
        "                                  tokenizer,\n",
        "                                  64,\n",
        "                                  True,\n",
        "                                  False,\n",
        "                                  transform)\n",
        "  input_ids, attention_mask, image = data_ensemble[0]\n",
        "  input_ids = input_ids.unsqueeze(dim=0)\n",
        "  input_ids = input_ids.to(device)\n",
        "\n",
        "  attention_mask = attention_mask.unsqueeze(dim=0)\n",
        "  attention_mask = attention_mask.to(device)\n",
        "\n",
        "  image = image.unsqueeze(dim=0)\n",
        "  image = image.to(device)\n",
        "\n",
        "  final_output = model(input_ids, attention_mask, image)\n",
        "\n",
        "  return final_output"
      ],
      "metadata": {
        "id": "mqYK9ItW2wWZ"
      },
      "execution_count": null,
      "outputs": []
    },
    {
      "cell_type": "code",
      "source": [
        "import pandas as pd\n",
        "test_data = pd.read_csv('/content/MyDrive/MyDrive/test_data_preprocessed.csv')\n",
        "test_data['image_paths'] = test_data['image_paths'].map(eval)\n",
        "test_data['len'] = test_data['image_paths'].map(len)\n",
        "test_data = test_data[test_data['len'] != 0]\n",
        "test_data.reset_index(drop=True, inplace=True)\n",
        "test_data.head()"
      ],
      "metadata": {
        "colab": {
          "base_uri": "https://localhost:8080/",
          "height": 206
        },
        "id": "Gna68CWxL8Hg",
        "outputId": "19088e59-97eb-4a9b-cf37-9586d1a8be76"
      },
      "execution_count": null,
      "outputs": [
        {
          "output_type": "execute_result",
          "data": {
            "text/plain": [
              "                prd_id                    name  \\\n",
              "0  199552910-310300200  구스다운패딩(웨스트우드)90 거의 새상품   \n",
              "1  208906996-310300200       퀄팅 다이아 패딩 여자 패딩점퍼   \n",
              "2  225858509-310300200                    K2패딩   \n",
              "3  207651040-310300200   아이더 스투키 숏패딩 남녀공용 블랙 s   \n",
              "4  212490892-310300200                게스 항공 패딩   \n",
              "\n",
              "                                         image_paths     cat_id  len  \n",
              "0  [199552910-310300200 (1).jpg, 199552910-310300...  310300200    4  \n",
              "1  [208906996-310300200 (2).jpg, 208906996-310300...  310300200    2  \n",
              "2  [225858509-310300200 (1).jpg, 225858509-310300...  310300200    7  \n",
              "3  [207651040-310300200 (1).jpg, 207651040-310300...  310300200    5  \n",
              "4                          [212490892-310300200.jpg]  310300200    1  "
            ],
            "text/html": [
              "\n",
              "  <div id=\"df-ed477681-6a17-4214-809a-7b4b53f92f8f\">\n",
              "    <div class=\"colab-df-container\">\n",
              "      <div>\n",
              "<style scoped>\n",
              "    .dataframe tbody tr th:only-of-type {\n",
              "        vertical-align: middle;\n",
              "    }\n",
              "\n",
              "    .dataframe tbody tr th {\n",
              "        vertical-align: top;\n",
              "    }\n",
              "\n",
              "    .dataframe thead th {\n",
              "        text-align: right;\n",
              "    }\n",
              "</style>\n",
              "<table border=\"1\" class=\"dataframe\">\n",
              "  <thead>\n",
              "    <tr style=\"text-align: right;\">\n",
              "      <th></th>\n",
              "      <th>prd_id</th>\n",
              "      <th>name</th>\n",
              "      <th>image_paths</th>\n",
              "      <th>cat_id</th>\n",
              "      <th>len</th>\n",
              "    </tr>\n",
              "  </thead>\n",
              "  <tbody>\n",
              "    <tr>\n",
              "      <th>0</th>\n",
              "      <td>199552910-310300200</td>\n",
              "      <td>구스다운패딩(웨스트우드)90 거의 새상품</td>\n",
              "      <td>[199552910-310300200 (1).jpg, 199552910-310300...</td>\n",
              "      <td>310300200</td>\n",
              "      <td>4</td>\n",
              "    </tr>\n",
              "    <tr>\n",
              "      <th>1</th>\n",
              "      <td>208906996-310300200</td>\n",
              "      <td>퀄팅 다이아 패딩 여자 패딩점퍼</td>\n",
              "      <td>[208906996-310300200 (2).jpg, 208906996-310300...</td>\n",
              "      <td>310300200</td>\n",
              "      <td>2</td>\n",
              "    </tr>\n",
              "    <tr>\n",
              "      <th>2</th>\n",
              "      <td>225858509-310300200</td>\n",
              "      <td>K2패딩</td>\n",
              "      <td>[225858509-310300200 (1).jpg, 225858509-310300...</td>\n",
              "      <td>310300200</td>\n",
              "      <td>7</td>\n",
              "    </tr>\n",
              "    <tr>\n",
              "      <th>3</th>\n",
              "      <td>207651040-310300200</td>\n",
              "      <td>아이더 스투키 숏패딩 남녀공용 블랙 s</td>\n",
              "      <td>[207651040-310300200 (1).jpg, 207651040-310300...</td>\n",
              "      <td>310300200</td>\n",
              "      <td>5</td>\n",
              "    </tr>\n",
              "    <tr>\n",
              "      <th>4</th>\n",
              "      <td>212490892-310300200</td>\n",
              "      <td>게스 항공 패딩</td>\n",
              "      <td>[212490892-310300200.jpg]</td>\n",
              "      <td>310300200</td>\n",
              "      <td>1</td>\n",
              "    </tr>\n",
              "  </tbody>\n",
              "</table>\n",
              "</div>\n",
              "      <button class=\"colab-df-convert\" onclick=\"convertToInteractive('df-ed477681-6a17-4214-809a-7b4b53f92f8f')\"\n",
              "              title=\"Convert this dataframe to an interactive table.\"\n",
              "              style=\"display:none;\">\n",
              "        \n",
              "  <svg xmlns=\"http://www.w3.org/2000/svg\" height=\"24px\"viewBox=\"0 0 24 24\"\n",
              "       width=\"24px\">\n",
              "    <path d=\"M0 0h24v24H0V0z\" fill=\"none\"/>\n",
              "    <path d=\"M18.56 5.44l.94 2.06.94-2.06 2.06-.94-2.06-.94-.94-2.06-.94 2.06-2.06.94zm-11 1L8.5 8.5l.94-2.06 2.06-.94-2.06-.94L8.5 2.5l-.94 2.06-2.06.94zm10 10l.94 2.06.94-2.06 2.06-.94-2.06-.94-.94-2.06-.94 2.06-2.06.94z\"/><path d=\"M17.41 7.96l-1.37-1.37c-.4-.4-.92-.59-1.43-.59-.52 0-1.04.2-1.43.59L10.3 9.45l-7.72 7.72c-.78.78-.78 2.05 0 2.83L4 21.41c.39.39.9.59 1.41.59.51 0 1.02-.2 1.41-.59l7.78-7.78 2.81-2.81c.8-.78.8-2.07 0-2.86zM5.41 20L4 18.59l7.72-7.72 1.47 1.35L5.41 20z\"/>\n",
              "  </svg>\n",
              "      </button>\n",
              "      \n",
              "  <style>\n",
              "    .colab-df-container {\n",
              "      display:flex;\n",
              "      flex-wrap:wrap;\n",
              "      gap: 12px;\n",
              "    }\n",
              "\n",
              "    .colab-df-convert {\n",
              "      background-color: #E8F0FE;\n",
              "      border: none;\n",
              "      border-radius: 50%;\n",
              "      cursor: pointer;\n",
              "      display: none;\n",
              "      fill: #1967D2;\n",
              "      height: 32px;\n",
              "      padding: 0 0 0 0;\n",
              "      width: 32px;\n",
              "    }\n",
              "\n",
              "    .colab-df-convert:hover {\n",
              "      background-color: #E2EBFA;\n",
              "      box-shadow: 0px 1px 2px rgba(60, 64, 67, 0.3), 0px 1px 3px 1px rgba(60, 64, 67, 0.15);\n",
              "      fill: #174EA6;\n",
              "    }\n",
              "\n",
              "    [theme=dark] .colab-df-convert {\n",
              "      background-color: #3B4455;\n",
              "      fill: #D2E3FC;\n",
              "    }\n",
              "\n",
              "    [theme=dark] .colab-df-convert:hover {\n",
              "      background-color: #434B5C;\n",
              "      box-shadow: 0px 1px 3px 1px rgba(0, 0, 0, 0.15);\n",
              "      filter: drop-shadow(0px 1px 2px rgba(0, 0, 0, 0.3));\n",
              "      fill: #FFFFFF;\n",
              "    }\n",
              "  </style>\n",
              "\n",
              "      <script>\n",
              "        const buttonEl =\n",
              "          document.querySelector('#df-ed477681-6a17-4214-809a-7b4b53f92f8f button.colab-df-convert');\n",
              "        buttonEl.style.display =\n",
              "          google.colab.kernel.accessAllowed ? 'block' : 'none';\n",
              "\n",
              "        async function convertToInteractive(key) {\n",
              "          const element = document.querySelector('#df-ed477681-6a17-4214-809a-7b4b53f92f8f');\n",
              "          const dataTable =\n",
              "            await google.colab.kernel.invokeFunction('convertToInteractive',\n",
              "                                                     [key], {});\n",
              "          if (!dataTable) return;\n",
              "\n",
              "          const docLinkHtml = 'Like what you see? Visit the ' +\n",
              "            '<a target=\"_blank\" href=https://colab.research.google.com/notebooks/data_table.ipynb>data table notebook</a>'\n",
              "            + ' to learn more about interactive tables.';\n",
              "          element.innerHTML = '';\n",
              "          dataTable['output_type'] = 'display_data';\n",
              "          await google.colab.output.renderOutput(dataTable, element);\n",
              "          const docLink = document.createElement('div');\n",
              "          docLink.innerHTML = docLinkHtml;\n",
              "          element.appendChild(docLink);\n",
              "        }\n",
              "      </script>\n",
              "    </div>\n",
              "  </div>\n",
              "  "
            ]
          },
          "metadata": {},
          "execution_count": 31
        }
      ]
    },
    {
      "cell_type": "code",
      "source": [
        "# 이미지 데이터 불러오기\n",
        "import zipfile\n",
        "zip_path = '/content/MyDrive/MyDrive/test_image_resized.zip'\n",
        "extract_path = '/content/test_image_resized'\n",
        "with zipfile.ZipFile(zip_path, 'r') as zip_ref:\n",
        "  zip_ref.extractall(extract_path)"
      ],
      "metadata": {
        "id": "vtyopWkON_Yz"
      },
      "execution_count": null,
      "outputs": []
    },
    {
      "cell_type": "code",
      "source": [
        "from tqdm import tqdm\n",
        "for i in tqdm(range(len(test_data))):\n",
        "  text = test_data.loc[i, 'name']\n",
        "  image_path = test_data.loc[i, 'image_paths'][0]\n",
        "  image = cv2.imread('/content/test_image_resized/' + image_path)\n",
        "\n",
        "  pred = predict(text, image, model)\n",
        "\n",
        "  test_data.loc[i, 'pred'] = str(pred)"
      ],
      "metadata": {
        "id": "WrF0FAogzKxg",
        "colab": {
          "base_uri": "https://localhost:8080/"
        },
        "outputId": "e515942c-d9e7-41bd-9355-4de36a74e9a3"
      },
      "execution_count": null,
      "outputs": [
        {
          "output_type": "stream",
          "name": "stderr",
          "text": [
            "100%|██████████| 12418/12418 [06:44<00:00, 30.71it/s]\n"
          ]
        }
      ]
    },
    {
      "cell_type": "code",
      "source": [
        "test_data.info()"
      ],
      "metadata": {
        "colab": {
          "base_uri": "https://localhost:8080/"
        },
        "id": "xqhpQ9W9H6Eo",
        "outputId": "ca0c3d90-064b-43f8-b9fa-6183947db7bc"
      },
      "execution_count": null,
      "outputs": [
        {
          "output_type": "stream",
          "name": "stdout",
          "text": [
            "<class 'pandas.core.frame.DataFrame'>\n",
            "RangeIndex: 12418 entries, 0 to 12417\n",
            "Data columns (total 6 columns):\n",
            " #   Column       Non-Null Count  Dtype \n",
            "---  ------       --------------  ----- \n",
            " 0   prd_id       12418 non-null  object\n",
            " 1   name         12418 non-null  object\n",
            " 2   image_paths  12418 non-null  object\n",
            " 3   cat_id       12418 non-null  int64 \n",
            " 4   len          12418 non-null  int64 \n",
            " 5   pred         12418 non-null  object\n",
            "dtypes: int64(2), object(4)\n",
            "memory usage: 582.2+ KB\n"
          ]
        }
      ]
    },
    {
      "cell_type": "code",
      "source": [
        "test_data['cat_id'] = test_data['cat_id'].astype('str')\n",
        "test_data['pred'] = test_data['pred'].map(eval)"
      ],
      "metadata": {
        "id": "liXI0R1ya8he"
      },
      "execution_count": null,
      "outputs": []
    },
    {
      "cell_type": "code",
      "source": [
        "# top3\n",
        "test_data['pred_cat_top3'] = test_data['pred'].apply(lambda x: [pred[0] for pred in x])\n",
        "test_data['score_top3'] = test_data.apply(lambda x: 1 if x['cat_id'] in x['pred_cat_top3'] else 0, axis=1)\n",
        "print(test_data['score_top3'].sum() / len(test_data))"
      ],
      "metadata": {
        "colab": {
          "base_uri": "https://localhost:8080/"
        },
        "id": "N1EXAIp4bAp8",
        "outputId": "49e0ce00-9939-43cb-c32f-60db89af7682"
      },
      "execution_count": null,
      "outputs": [
        {
          "output_type": "stream",
          "name": "stdout",
          "text": [
            "0.8443388629408922\n"
          ]
        }
      ]
    },
    {
      "cell_type": "code",
      "source": [
        "# top1\n",
        "test_data['pred_cat_top1'] = test_data['pred'].apply(lambda x: x[0][0])\n",
        "test_data['score_top1'] = test_data.apply(lambda x: 1 if x['cat_id'] == x['pred_cat_top1'] else 0, axis=1)\n",
        "print(test_data['score_top1'].sum() / len(test_data))"
      ],
      "metadata": {
        "colab": {
          "base_uri": "https://localhost:8080/"
        },
        "id": "S-Wmthe2c0RT",
        "outputId": "e6e1639d-561d-4326-a7bd-a6beedbcf205"
      },
      "execution_count": null,
      "outputs": [
        {
          "output_type": "stream",
          "name": "stdout",
          "text": [
            "0.6735384119826059\n"
          ]
        }
      ]
    }
  ]
}